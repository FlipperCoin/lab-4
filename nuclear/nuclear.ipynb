{
 "cells": [
  {
   "cell_type": "code",
   "execution_count": 3,
   "metadata": {},
   "outputs": [],
   "source": [
    "import numpy as np\n",
    "import pandas as pd\n",
    "import matplotlib.pyplot as plt\n",
    "from scipy.stats import linregress"
   ]
  },
  {
   "attachments": {},
   "cell_type": "markdown",
   "metadata": {},
   "source": [
    "### Statistics of counting and Background Radiation Measurement"
   ]
  },
  {
   "cell_type": "code",
   "execution_count": 8,
   "metadata": {},
   "outputs": [],
   "source": [
    "background_count = 0\n",
    "background_rate = background_count / 100 # per sec"
   ]
  },
  {
   "cell_type": "code",
   "execution_count": 9,
   "metadata": {},
   "outputs": [],
   "source": [
    "init_nbar = np.sum([ ]) / 10\n",
    "m = 150*init_nbar"
   ]
  },
  {
   "cell_type": "code",
   "execution_count": 10,
   "metadata": {},
   "outputs": [],
   "source": [
    "df = pd.read_csv('data/data.csv')"
   ]
  },
  {
   "cell_type": "code",
   "execution_count": 11,
   "metadata": {},
   "outputs": [],
   "source": [
    "n = df['n']"
   ]
  },
  {
   "cell_type": "code",
   "execution_count": 12,
   "metadata": {},
   "outputs": [],
   "source": [
    "print(f\"m = {m} and len(n) = {len(n)}\")\n",
    "\n",
    "nbar = np.mean(n)\n",
    "n_std = np.sqrt(m) * np.sqrt(np.mean((n-nbar)**2))\n",
    "\n",
    "K3 = (n-nbar)**3\n",
    "K3_bar = np.mean(K3)\n",
    "K3_std = np.sqrt(m) * np.sqrt(np.mean((K3-K3_bar)**2))"
   ]
  },
  {
   "cell_type": "code",
   "execution_count": 13,
   "metadata": {},
   "outputs": [
    {
     "name": "stdout",
     "output_type": "stream",
     "text": [
      "n +/- STD(nbar) = 4.75 +/- 0.0\n",
      "K3 +/- STD(K3) = -0.46875 +/- 0.0\n"
     ]
    }
   ],
   "source": [
    "print(f\"n +/- STD(nbar) = {nbar} +/- {n_std}\")\n",
    "print(f\"K3 +/- STD(K3) = {K3_bar} +/- {K3_std}\")"
   ]
  },
  {
   "attachments": {},
   "cell_type": "markdown",
   "metadata": {},
   "source": [
    "### Inverse Square Law"
   ]
  },
  {
   "cell_type": "code",
   "execution_count": null,
   "metadata": {},
   "outputs": [],
   "source": [
    "shelves_distance = 10e-3\n",
    "top_shelf_GM_window = 12.3e-3\n",
    "stage_thickness = 1e-3\n",
    "number_of_shelves = 5\n",
    "\n",
    "time = 0\n",
    "count_per_shelf = np.array([1, 2, 3, 4, 5, 6])\n",
    "\n",
    "rate_per_shelf = count_per_shelf / time\n",
    "normal_rate_per_shelf = rate_per_shelf - background_rate\n",
    "\n",
    "distance_per_shelf = number_of_shelves*(shelves_distance-1) + top_shelf_GM_window - np.arange(number_of_shelves)*shelves_distance\n",
    "\n",
    "x = distance_per_shelf\n",
    "y = 1/np.sqrt(rate_per_shelf)\n",
    "fit = linregress(x, y)\n",
    "\n",
    "a = fit.intercept/fit.slope"
   ]
  },
  {
   "cell_type": "code",
   "execution_count": null,
   "metadata": {},
   "outputs": [],
   "source": [
    "smooth_x = np.linspace(np.min(x), np.max(x), 100)\n",
    "plt.plot(x, y, '.', label='data')\n",
    "plt.plot(smooth_x, fit.slope*smooth_x + fit.intercept, '--', label='fit')\n",
    "plt.grid()\n",
    "plt.legend()\n",
    "plt.show()"
   ]
  }
 ],
 "metadata": {
  "kernelspec": {
   "display_name": "Python 3",
   "language": "python",
   "name": "python3"
  },
  "language_info": {
   "codemirror_mode": {
    "name": "ipython",
    "version": 3
   },
   "file_extension": ".py",
   "mimetype": "text/x-python",
   "name": "python",
   "nbconvert_exporter": "python",
   "pygments_lexer": "ipython3",
   "version": "3.10.4"
  },
  "orig_nbformat": 4
 },
 "nbformat": 4,
 "nbformat_minor": 2
}
