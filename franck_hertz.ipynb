{
 "cells": [
  {
   "cell_type": "code",
   "execution_count": 6,
   "metadata": {},
   "outputs": [],
   "source": [
    "import numpy as np\n",
    "import matplotlib.pyplot as plt\n",
    "import pandas as pd\n",
    "from uncertainties import ufloat\n",
    "from uncertainties import unumpy as unp"
   ]
  },
  {
   "cell_type": "code",
   "execution_count": null,
   "metadata": {},
   "outputs": [],
   "source": [
    "Heater_Current = 0.25 #A \n",
    "fh1 = pd.read_csv('FH1.csv',sep='\\t',header=5) # read the data. \n",
    "Va1 = np.array(fh1['Va(V)_1']) # accelerating voltage array \n",
    "I1 = np.array(fh1['Ia(E-12 A)_1']) # Current array \n",
    "T1 = np.array(fh1['T(c)_1']) #temperature array "
   ]
  },
  {
   "cell_type": "code",
   "execution_count": null,
   "metadata": {},
   "outputs": [],
   "source": [
    "plt.figure() \n",
    "plt.plot(Va1, I1, label='Heater current {:.2f} [A]'.format(Heater_Current)) \n",
    "plt.ylabel('Current [pA]') \n",
    "plt.xlabel('Acceleration voltage [V]') \n",
    "plt.grid() \n",
    "plt.legend()"
   ]
  },
  {
   "cell_type": "code",
   "execution_count": null,
   "metadata": {},
   "outputs": [],
   "source": []
  }
 ],
 "metadata": {
  "kernelspec": {
   "display_name": "Python 3",
   "language": "python",
   "name": "python3"
  },
  "language_info": {
   "codemirror_mode": {
    "name": "ipython",
    "version": 3
   },
   "file_extension": ".py",
   "mimetype": "text/x-python",
   "name": "python",
   "nbconvert_exporter": "python",
   "pygments_lexer": "ipython3",
   "version": "3.10.4"
  },
  "orig_nbformat": 4
 },
 "nbformat": 4,
 "nbformat_minor": 2
}
